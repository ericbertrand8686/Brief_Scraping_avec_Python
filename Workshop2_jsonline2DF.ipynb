{
 "cells": [
  {
   "cell_type": "code",
   "execution_count": 42,
   "metadata": {},
   "outputs": [],
   "source": [
    "import scrapy\n",
    "import jsonlines\n",
    "import numpy as np\n",
    "import pandas as pd"
   ]
  },
  {
   "cell_type": "code",
   "execution_count": 34,
   "metadata": {},
   "outputs": [],
   "source": [
    "manga_data = []\n",
    "\n",
    "with jsonlines.open(\"WebCrawler/dataset_name.jsonlines\") as reader:\n",
    "    for obj in reader:\n",
    "        manga_data.append(obj)"
   ]
  },
  {
   "cell_type": "code",
   "execution_count": 35,
   "metadata": {},
   "outputs": [
    {
     "data": {
      "text/plain": [
       "{'title': 'A Bias Girl',\n",
       " 'synopsis': 'The antics of two high school girls: Kim Peongyon and Choi Boa. Kim, aka \"Bias Girl,\" is a foul mouthed, overactive girl and idiot who has weird and strange biased ideas about people and things, and B...',\n",
       " 'type_': 'Manhwa',\n",
       " 'episodes': '2',\n",
       " 'rating': '6.62'}"
      ]
     },
     "execution_count": 35,
     "metadata": {},
     "output_type": "execute_result"
    }
   ],
   "source": [
    "\n",
    "\n",
    "\n",
    "manga_data[1]"
   ]
  },
  {
   "cell_type": "code",
   "execution_count": 48,
   "metadata": {},
   "outputs": [],
   "source": [
    "l = len(manga_data)\n",
    "title = []\n",
    "synopsis = []\n",
    "episodes = []\n",
    "rating = []\n",
    "\n",
    "for i, manga in enumerate(manga_data) :\n",
    "    title.append(manga['title'])\n",
    "    synopsis.append(manga['synopsis'])\n",
    "    episodes.append(manga['episodes'])\n",
    "    rating.append(manga['rating'])\n",
    "    \n",
    "df = pd.DataFrame([title,synopsis,episodes,rating])\n",
    "\n"
   ]
  }
 ],
 "metadata": {
  "interpreter": {
   "hash": "65f57c3956f141e89f33abccbc998488c2e475b7cd9b3de189af31d756e32d14"
  },
  "kernelspec": {
   "display_name": "Python 3.9.7 ('base')",
   "language": "python",
   "name": "python3"
  },
  "language_info": {
   "codemirror_mode": {
    "name": "ipython",
    "version": 3
   },
   "file_extension": ".py",
   "mimetype": "text/x-python",
   "name": "python",
   "nbconvert_exporter": "python",
   "pygments_lexer": "ipython3",
   "version": "3.9.7"
  },
  "orig_nbformat": 4
 },
 "nbformat": 4,
 "nbformat_minor": 2
}
