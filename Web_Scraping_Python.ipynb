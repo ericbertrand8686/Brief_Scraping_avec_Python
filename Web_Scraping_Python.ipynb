{
 "cells": [
  {
   "cell_type": "markdown",
   "metadata": {},
   "source": [
    "### Contexte du projet\n",
    "Vous souhaitez récuperer des données pour votre futur projet. Vous remarquez rapidement que tout ce dont vous avez besoin se trouve sur des sites internet.  \n",
    "Il va vous falloir récuperer ces données de manère automatiser. Pour cela vous allez devoir, organiser votre travail et pourquoi ne pas utiliser Scrapy pour plus de facilité.  \n",
    "\n",
    "Pour commencer il vous faudra dans la matiné commencer par maitriser Scrapy.  \n",
    "\n",
    "A l'aide des Worshops cela ne devra pas vous poser de problème.  \n",
    "\n",
    "L'après midi vous allez devoir mettre en pratique ce que vous avez vu le matin, en récuperant les données sur ce site :  \n",
    "\n",
    "https://fr.muzeo.com/  \n",
    "\n",
    "​\n",
    "\n",
    "Pour cela vous disposez d'un documents avec plusieurs dizaines d'URL correpondant chacune à produit.\n",
    "\n",
    "Vous allez devoir concevoir un code vous permetant de recuperer ces informations pour chaques produit :\n",
    "\n",
    "Titre\n",
    "Prix\n",
    "Delai de fabrication\n",
    "Url de l'image\n",
    "​\n",
    "\n",
    "### Modalités pédagogiques\n",
    "Une journée.\n",
    "\n",
    "Individuellement\n",
    "\n",
    "### Critères de performance\n",
    "Le script permet de récupérer les données choisis.\n",
    "\n",
    "### Modalités d'évaluation\n",
    "Un prototype du programme\n",
    "\n",
    "### Livrables\n",
    "Un dépôt Git du programme, il devra inclure un readme pour les instructions de son utilisation"
   ]
  },
  {
   "cell_type": "code",
   "execution_count": 1,
   "metadata": {},
   "outputs": [],
   "source": [
    "import scrapy"
   ]
  },
  {
   "cell_type": "code",
   "execution_count": null,
   "metadata": {},
   "outputs": [],
   "source": [
    "url = \"quotes.toscrape.com\""
   ]
  }
 ],
 "metadata": {
  "interpreter": {
   "hash": "65f57c3956f141e89f33abccbc998488c2e475b7cd9b3de189af31d756e32d14"
  },
  "kernelspec": {
   "display_name": "Python 3.9.7 ('base')",
   "language": "python",
   "name": "python3"
  },
  "language_info": {
   "codemirror_mode": {
    "name": "ipython",
    "version": 3
   },
   "file_extension": ".py",
   "mimetype": "text/x-python",
   "name": "python",
   "nbconvert_exporter": "python",
   "pygments_lexer": "ipython3",
   "version": "3.9.7"
  },
  "orig_nbformat": 4
 },
 "nbformat": 4,
 "nbformat_minor": 2
}
